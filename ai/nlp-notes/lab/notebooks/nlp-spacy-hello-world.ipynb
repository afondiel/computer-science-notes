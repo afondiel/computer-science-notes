{
 "cells": [
  {
   "cell_type": "code",
   "execution_count": null,
   "metadata": {},
   "outputs": [],
   "source": []
  }
 ],
 "metadata": {
  "kernelspec": {
   "display_name": "Python 3.9.13 64-bit (microsoft store)",
   "language": "python",
   "name": "python3"
  },
  "language_info": {
   "name": "python",
   "version": "3.9.13"
  },
  "orig_nbformat": 4,
  "vscode": {
   "interpreter": {
    "hash": "b93d003b320fd3ebaa5319e95ea428037de38356353e5c5bf8dc2e7e7527d586"
   }
  }
 },
 "nbformat": 4,
 "nbformat_minor": 2
}
