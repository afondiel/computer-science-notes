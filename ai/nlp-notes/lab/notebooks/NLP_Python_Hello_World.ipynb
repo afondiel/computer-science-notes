{
  "nbformat": 4,
  "nbformat_minor": 0,
  "metadata": {
    "colab": {
      "provenance": []
    },
    "kernelspec": {
      "name": "python3",
      "display_name": "Python 3"
    }
  },
  "cells": [
    {
      "cell_type": "markdown",
      "source": [
        "<a href=\"https://colab.research.google.com/drive/1UzFWBW5fsrqs0sbzRZgqrCUgxI8FYJgF#scrollTo=BtlQ5YnsU9tz\" target=\"_parent\"><img src=\"https://colab.research.google.com/assets/colab-badge.svg\" alt=\"Open In Colab\"/></a>"
      ],
      "metadata": {
        "id": "BtlQ5YnsU9tz"
      }
    },
    {
      "cell_type": "markdown",
      "metadata": {
        "id": "05WiL5hB3YE2"
      },
      "source": [
        "# Natural Language Processing (NLP) in Python - Alice Zhao\n",
        "\n",
        "**Data Science pipeline for NLP**\n",
        "\n",
        "1. Start with a question\n",
        "2. Get and clean the data\n",
        "3. Performe EDA (Exploratory data analysis)\n",
        "4. Apply techniques\n",
        "5. Share insights\n",
        "\n",
        "## References\n",
        "\n",
        "- 2H Course: https://www.youtube.com/watch?v=xvqsFTUsOmc&t=1791s\n"
      ]
    },
    {
      "cell_type": "code",
      "source": [],
      "metadata": {
        "id": "UWp3RyG0Tsc1"
      },
      "execution_count": null,
      "outputs": []
    }
  ]
}