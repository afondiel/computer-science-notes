{
  "nbformat": 4,
  "nbformat_minor": 0,
  "metadata": {
    "colab": {
      "provenance": []
    },
    "kernelspec": {
      "name": "python3",
      "display_name": "Python 3"
    },
    "language_info": {
      "name": "python"
    }
  },
  "cells": [
    {
      "cell_type": "markdown",
      "source": [
        "<a href=\"https://colab.research.google.com/drive/1mGU4KjO1rmm0tLdiSxzBsoRJrg76A7y3#scrollTo=m_YrNiQeVHxR\" target=\"_parent\"><img src=\"https://colab.research.google.com/assets/colab-badge.svg\" alt=\"Open In Colab\"/></a>"
      ],
      "metadata": {
        "id": "m_YrNiQeVHxR"
      }
    },
    {
      "cell_type": "markdown",
      "source": [
        "# NLP with Gensim - Hello World\n",
        "\n",
        "## Refererences\n",
        "- [Gensim Wikipedia](https://en.wikipedia.org/wiki/Gensim)\n",
        "- [Gensim repo](https://github.com/piskvorky/gensim)\n"
      ],
      "metadata": {
        "id": "bbqy_8JJVO0-"
      }
    },
    {
      "cell_type": "code",
      "execution_count": null,
      "metadata": {
        "id": "vZ49j-W1PsJA"
      },
      "outputs": [],
      "source": []
    }
  ]
}