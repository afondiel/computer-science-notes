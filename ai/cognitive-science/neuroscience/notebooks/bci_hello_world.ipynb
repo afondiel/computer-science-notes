{
  "nbformat": 4,
  "nbformat_minor": 0,
  "metadata": {
    "colab": {
      "provenance": []
    },
    "kernelspec": {
      "name": "python3",
      "display_name": "Python 3"
    },
    "language_info": {
      "name": "python"
    }
  },
  "cells": [
    {
      "cell_type": "markdown",
      "source": [
        "# Brain Computer Interface (BCI) - Hello World Code!\n",
        "\n",
        "BCI connects the brain to computers or devices.\n",
        "\n",
        "There is Different types of BCI devices exist, such as EEG or fNIRS etc.\n",
        "\n",
        "This is an [EEG BCI]() hello world code in Python using OpenBCI library.\n",
        "\n",
        "## BCI Applications\n",
        "- controlling a robotic arm,\n",
        "- playing a video game\n",
        "- typing a message\n",
        "\n",
        "BCI is a fascinating and promising field of research that can have many benefits for humanity"
      ],
      "metadata": {
        "id": "ZyQJYFzTud34"
      }
    },
    {
      "cell_type": "code",
      "execution_count": null,
      "metadata": {
        "id": "PExAYMTWo8TD"
      },
      "outputs": [],
      "source": [
        "# Import the OpenBCI library\n",
        "import openbci\n",
        "\n",
        "# Define a callback function to process the EEG data\n",
        "def process_data(sample):\n",
        "    # Get the EEG channel values\n",
        "    eeg_channels = sample.channels_data\n",
        "\n",
        "    # Get the blink value (1 if blink, 0 if not)\n",
        "    blink = sample.aux_data[0]\n",
        "\n",
        "    # Print the EEG channel values\n",
        "    print(\"EEG channels:\", eeg_channels)\n",
        "\n",
        "    # Print \"Hello World!\" if blink\n",
        "    if blink == 1:\n",
        "        print(\"Hello World!\")\n",
        "\n",
        "# Create an OpenBCI object\n",
        "board = openbci.OpenBCIBoard(port='COM3', baud=115200)\n",
        "\n",
        "# Start streaming the EEG data and call the callback function\n",
        "board.start_streaming(process_data)\n"
      ]
    },
    {
      "cell_type": "markdown",
      "source": [
        "## References\n",
        "\n",
        "- [Daniel Robson - @teiumt](https://github.com/teiumt):\n",
        "  - https://github.com/teiumt/bci/blob/master/hello_world.rbc."
      ],
      "metadata": {
        "id": "n3zXx8Y-whrN"
      }
    }
  ]
}