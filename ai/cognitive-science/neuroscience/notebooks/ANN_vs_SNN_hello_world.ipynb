{
  "nbformat": 4,
  "nbformat_minor": 0,
  "metadata": {
    "colab": {
      "provenance": []
    },
    "kernelspec": {
      "name": "python3",
      "display_name": "Python 3"
    },
    "language_info": {
      "name": "python"
    }
  },
  "cells": [
    {
      "cell_type": "code",
      "source": [
        "# install packages\n",
        "# !pip install tensorflow\n",
        "!pip install brian2tools\n",
        "# load files from url\n",
        "# !wget file_url"
      ],
      "metadata": {
        "colab": {
          "base_uri": "https://localhost:8080/"
        },
        "id": "xjK6Fxh5b7kq",
        "outputId": "8b8937d7-c401-4480-e76c-36a6140b1d26"
      },
      "execution_count": 1,
      "outputs": [
        {
          "output_type": "stream",
          "name": "stdout",
          "text": [
            "Collecting brian2tools\n",
            "  Downloading brian2tools-0.3-py2.py3-none-any.whl (87 kB)\n",
            "\u001b[?25l     \u001b[90m━━━━━━━━━━━━━━━━━━━━━━━━━━━━━━━━━━━━━━━━\u001b[0m \u001b[32m0.0/87.9 kB\u001b[0m \u001b[31m?\u001b[0m eta \u001b[36m-:--:--\u001b[0m\r\u001b[2K     \u001b[90m━━━━━━━━━━━━━━━━━━━━━━━━━━━━━━━━━━━━━━━━\u001b[0m \u001b[32m87.9/87.9 kB\u001b[0m \u001b[31m2.7 MB/s\u001b[0m eta \u001b[36m0:00:00\u001b[0m\n",
            "\u001b[?25hRequirement already satisfied: matplotlib>=1.3.1 in /usr/local/lib/python3.10/dist-packages (from brian2tools) (3.7.1)\n",
            "Collecting brian2>=2.0 (from brian2tools)\n",
            "  Downloading Brian2-2.5.4-cp310-cp310-manylinux_2_17_x86_64.manylinux2014_x86_64.whl (1.6 MB)\n",
            "\u001b[2K     \u001b[90m━━━━━━━━━━━━━━━━━━━━━━━━━━━━━━━━━━━━━━━━\u001b[0m \u001b[32m1.6/1.6 MB\u001b[0m \u001b[31m13.6 MB/s\u001b[0m eta \u001b[36m0:00:00\u001b[0m\n",
            "\u001b[?25hRequirement already satisfied: setuptools in /usr/local/lib/python3.10/dist-packages (from brian2tools) (67.7.2)\n",
            "Collecting setuptools-scm (from brian2tools)\n",
            "  Downloading setuptools_scm-8.0.4-py3-none-any.whl (42 kB)\n",
            "\u001b[2K     \u001b[90m━━━━━━━━━━━━━━━━━━━━━━━━━━━━━━━━━━━━━━━━\u001b[0m \u001b[32m42.1/42.1 kB\u001b[0m \u001b[31m4.7 MB/s\u001b[0m eta \u001b[36m0:00:00\u001b[0m\n",
            "\u001b[?25hCollecting pylems>=0.4.9 (from brian2tools)\n",
            "  Downloading PyLEMS-0.6.4-py3-none-any.whl (67 kB)\n",
            "\u001b[2K     \u001b[90m━━━━━━━━━━━━━━━━━━━━━━━━━━━━━━━━━━━━━━━━\u001b[0m \u001b[32m67.0/67.0 kB\u001b[0m \u001b[31m7.5 MB/s\u001b[0m eta \u001b[36m0:00:00\u001b[0m\n",
            "\u001b[?25hCollecting libNeuroML>=0.2.18 (from brian2tools)\n",
            "  Downloading libNeuroML-0.5.5-py3-none-any.whl (359 kB)\n",
            "\u001b[2K     \u001b[90m━━━━━━━━━━━━━━━━━━━━━━━━━━━━━━━━━━━━━━━━\u001b[0m \u001b[32m359.8/359.8 kB\u001b[0m \u001b[31m18.3 MB/s\u001b[0m eta \u001b[36m0:00:00\u001b[0m\n",
            "\u001b[?25hCollecting markdown-strings (from brian2tools)\n",
            "  Downloading markdown_strings-3.3.0-py2.py3-none-any.whl (8.1 kB)\n",
            "Requirement already satisfied: numpy>=1.21 in /usr/local/lib/python3.10/dist-packages (from brian2>=2.0->brian2tools) (1.23.5)\n",
            "Requirement already satisfied: cython>=0.29 in /usr/local/lib/python3.10/dist-packages (from brian2>=2.0->brian2tools) (3.0.5)\n",
            "Requirement already satisfied: sympy>=1.2 in /usr/local/lib/python3.10/dist-packages (from brian2>=2.0->brian2tools) (1.12)\n",
            "Requirement already satisfied: pyparsing in /usr/local/lib/python3.10/dist-packages (from brian2>=2.0->brian2tools) (3.1.1)\n",
            "Requirement already satisfied: jinja2>=2.7 in /usr/local/lib/python3.10/dist-packages (from brian2>=2.0->brian2tools) (3.1.2)\n",
            "Requirement already satisfied: packaging in /usr/local/lib/python3.10/dist-packages (from brian2>=2.0->brian2tools) (23.2)\n",
            "Requirement already satisfied: lxml in /usr/local/lib/python3.10/dist-packages (from libNeuroML>=0.2.18->brian2tools) (4.9.3)\n",
            "Requirement already satisfied: six in /usr/local/lib/python3.10/dist-packages (from libNeuroML>=0.2.18->brian2tools) (1.16.0)\n",
            "Requirement already satisfied: networkx in /usr/local/lib/python3.10/dist-packages (from libNeuroML>=0.2.18->brian2tools) (3.2.1)\n",
            "Requirement already satisfied: tables>=3.3.0 in /usr/local/lib/python3.10/dist-packages (from libNeuroML>=0.2.18->brian2tools) (3.8.0)\n",
            "Requirement already satisfied: natsort in /usr/local/lib/python3.10/dist-packages (from libNeuroML>=0.2.18->brian2tools) (8.4.0)\n",
            "Requirement already satisfied: contourpy>=1.0.1 in /usr/local/lib/python3.10/dist-packages (from matplotlib>=1.3.1->brian2tools) (1.2.0)\n",
            "Requirement already satisfied: cycler>=0.10 in /usr/local/lib/python3.10/dist-packages (from matplotlib>=1.3.1->brian2tools) (0.12.1)\n",
            "Requirement already satisfied: fonttools>=4.22.0 in /usr/local/lib/python3.10/dist-packages (from matplotlib>=1.3.1->brian2tools) (4.44.3)\n",
            "Requirement already satisfied: kiwisolver>=1.0.1 in /usr/local/lib/python3.10/dist-packages (from matplotlib>=1.3.1->brian2tools) (1.4.5)\n",
            "Requirement already satisfied: pillow>=6.2.0 in /usr/local/lib/python3.10/dist-packages (from matplotlib>=1.3.1->brian2tools) (9.4.0)\n",
            "Requirement already satisfied: python-dateutil>=2.7 in /usr/local/lib/python3.10/dist-packages (from matplotlib>=1.3.1->brian2tools) (2.8.2)\n",
            "Requirement already satisfied: typing-extensions in /usr/local/lib/python3.10/dist-packages (from setuptools-scm->brian2tools) (4.5.0)\n",
            "Requirement already satisfied: tomli>=1 in /usr/local/lib/python3.10/dist-packages (from setuptools-scm->brian2tools) (2.0.1)\n",
            "Requirement already satisfied: MarkupSafe>=2.0 in /usr/local/lib/python3.10/dist-packages (from jinja2>=2.7->brian2>=2.0->brian2tools) (2.1.3)\n",
            "Requirement already satisfied: mpmath>=0.19 in /usr/local/lib/python3.10/dist-packages (from sympy>=1.2->brian2>=2.0->brian2tools) (1.3.0)\n",
            "Requirement already satisfied: numexpr>=2.6.2 in /usr/local/lib/python3.10/dist-packages (from tables>=3.3.0->libNeuroML>=0.2.18->brian2tools) (2.8.7)\n",
            "Requirement already satisfied: blosc2~=2.0.0 in /usr/local/lib/python3.10/dist-packages (from tables>=3.3.0->libNeuroML>=0.2.18->brian2tools) (2.0.0)\n",
            "Requirement already satisfied: py-cpuinfo in /usr/local/lib/python3.10/dist-packages (from tables>=3.3.0->libNeuroML>=0.2.18->brian2tools) (9.0.0)\n",
            "Requirement already satisfied: msgpack in /usr/local/lib/python3.10/dist-packages (from blosc2~=2.0.0->tables>=3.3.0->libNeuroML>=0.2.18->brian2tools) (1.0.7)\n",
            "Installing collected packages: markdown-strings, setuptools-scm, pylems, brian2, libNeuroML, brian2tools\n",
            "Successfully installed brian2-2.5.4 brian2tools-0.3 libNeuroML-0.5.5 markdown-strings-3.3.0 pylems-0.6.4 setuptools-scm-8.0.4\n"
          ]
        }
      ]
    },
    {
      "cell_type": "markdown",
      "source": [
        "\n",
        "## Artificial Neural Network (ANN) vs Spiking Neural Network (SNN)\n",
        "\n",
        "This is a slightly comparison btw ANN vs SNN:\n",
        "\n",
        "| Feature                | Artificial Neural Networks (ANNs)                    | Spiking Neural Networks (SNNs)                      |\n",
        "|------------------------|------------------------------------------------------|-----------------------------------------------------|\n",
        "| **Basic Operation**    | Process information in continuous-valued signals.     | Communicate using discrete, time-based events (spikes).|\n",
        "| **Representation of Information** | Represented in continuous values.              | Represented in spikes, with timing as crucial information.|\n",
        "| **Energy Efficiency**  | Less biologically plausible, computationally expensive. | More biologically plausible, potentially more energy-efficient.|\n",
        "| **Temporal Processing**| Not inherently designed for precise temporal processing. | Naturally handles temporal aspects through spike timing.|\n",
        "| **Learning Paradigms** | Commonly use backpropagation and gradient descent.    | Involves spike-timing-dependent plasticity (STDP) for learning.|\n"
      ],
      "metadata": {
        "id": "Cl90hxrSO_tO"
      }
    },
    {
      "cell_type": "markdown",
      "source": [
        "### ANN - Hello World!"
      ],
      "metadata": {
        "id": "WT8w2IeQJG2-"
      }
    },
    {
      "cell_type": "code",
      "source": [
        "import numpy as np\n",
        "from tensorflow.keras.models import Sequential\n",
        "from tensorflow.keras.layers import Dense\n",
        "\n",
        "# Create a simple ANN model\n",
        "model = Sequential()\n",
        "model.add(Dense(units=1, input_dim=1, activation='linear'))\n",
        "\n",
        "# Compile the model\n",
        "model.compile(optimizer='sgd', loss='mean_squared_error')\n",
        "\n",
        "# Input data\n",
        "X_train = np.array([1.0])\n",
        "y_train = np.array([2.0])\n",
        "\n",
        "# Train the model\n",
        "model.fit(\n",
        "    X_train, y_train,\n",
        "    epochs=10,\n",
        "    # verbose=1\n",
        "    # verbose=0\n",
        ")\n",
        "\n",
        "# Predict using the trained model\n",
        "prediction = model.predict(np.array([3.0]))\n",
        "\n",
        "print(f\"prediction: {prediction} \\\n",
        "      prediction-shape: {prediction.shape} \\\n",
        "      prediction-dim: {prediction.ndim} \\\n",
        "      prediction-type: {type(prediction)}\\n\")\n",
        "\n",
        "print(\"Artificial Neural Network - Hello, World!\")\n",
        "print(f\"Prediction: {prediction[0][0]}\")"
      ],
      "metadata": {
        "colab": {
          "base_uri": "https://localhost:8080/"
        },
        "id": "rMHj6KQsIumt",
        "outputId": "8f1b23b6-5248-4055-89d3-7e3e0580c105"
      },
      "execution_count": 4,
      "outputs": [
        {
          "output_type": "stream",
          "name": "stdout",
          "text": [
            "Epoch 1/10\n",
            "1/1 [==============================] - 0s 288ms/step - loss: 5.7033\n",
            "Epoch 2/10\n",
            "1/1 [==============================] - 0s 12ms/step - loss: 5.2561\n",
            "Epoch 3/10\n",
            "1/1 [==============================] - 0s 11ms/step - loss: 4.8441\n",
            "Epoch 4/10\n",
            "1/1 [==============================] - 0s 12ms/step - loss: 4.4643\n",
            "Epoch 5/10\n",
            "1/1 [==============================] - 0s 10ms/step - loss: 4.1143\n",
            "Epoch 6/10\n",
            "1/1 [==============================] - 0s 12ms/step - loss: 3.7917\n",
            "Epoch 7/10\n",
            "1/1 [==============================] - 0s 9ms/step - loss: 3.4945\n",
            "Epoch 8/10\n",
            "1/1 [==============================] - 0s 9ms/step - loss: 3.2205\n",
            "Epoch 9/10\n",
            "1/1 [==============================] - 0s 9ms/step - loss: 2.9680\n",
            "Epoch 10/10\n",
            "1/1 [==============================] - 0s 10ms/step - loss: 2.7353\n",
            "1/1 [==============================] - 0s 49ms/step\n",
            "prediction: [[0.4363996]]       prediction-shape: (1, 1)       prediction-dim: 2       prediction-type: <class 'numpy.ndarray'>\n",
            "\n",
            "Artificial Neural Network - Hello, World!\n",
            "Prediction: 0.4363996088504791\n"
          ]
        }
      ]
    },
    {
      "cell_type": "markdown",
      "source": [
        "### SNN - Hello World!"
      ],
      "metadata": {
        "id": "0jSdSEqoJDIj"
      }
    },
    {
      "cell_type": "code",
      "source": [
        "import numpy as np\n",
        "import matplotlib.pyplot as plt\n",
        "from brian2 import *\n",
        "\n",
        "# Set up the SNN simulation\n",
        "start_scope()\n",
        "\n",
        "# Define the SNN model\n",
        "# eqs = '''\n",
        "# dv/dt = (0.2 - v) / tau : 1\n",
        "# '''\n",
        "\n",
        "tau = 10 * ms  # Adjust the value as needed\n",
        "\n",
        "eqs = '''\n",
        "dv/dt = (0.2 - v) / tau : 1\n",
        "'''\n",
        "\n",
        "# Create a neuron group with one neuron\n",
        "neurons = NeuronGroup(1, eqs, threshold='v > 1', reset='v = 0', method='linear')\n",
        "\n",
        "# Create a spike monitor to record spikes\n",
        "spike_monitor = SpikeMonitor(neurons)\n",
        "\n",
        "# Set the initial membrane potential\n",
        "neurons.v = 0.5\n",
        "\n",
        "# Run the simulation for a short time\n",
        "run(50 * ms)\n",
        "\n",
        "# Plot the spikes\n",
        "plt.plot(spike_monitor.t/ms, spike_monitor.i, 'o')\n",
        "plt.xlabel('Time (ms)')\n",
        "plt.ylabel('Neuron index')\n",
        "plt.title('Spiking Neural Network - Hello, World!')\n",
        "plt.show()"
      ],
      "metadata": {
        "colab": {
          "base_uri": "https://localhost:8080/",
          "height": 472
        },
        "id": "4U7DGppUI8OG",
        "outputId": "872492cc-ae50-4989-ed09-e0a01db3319b"
      },
      "execution_count": 3,
      "outputs": [
        {
          "output_type": "display_data",
          "data": {
            "text/plain": [
              "<Figure size 640x480 with 1 Axes>"
            ],
            "image/png": "[encoded data removed]"
          },
          "metadata": {}
        }
      ]
    },
    {
      "cell_type": "markdown",
      "source": [
        "## References\n",
        "- None"
      ],
      "metadata": {
        "id": "q2JWe29Q1Ob1"
      }
    }
  ]
}