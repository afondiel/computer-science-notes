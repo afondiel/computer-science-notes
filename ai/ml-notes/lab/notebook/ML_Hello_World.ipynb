{
  "nbformat": 4,
  "nbformat_minor": 0,
  "metadata": {
    "colab": {
      "name": "ML - Hello World.ipynb",
      "provenance": [],
      "collapsed_sections": []
    },
    "kernelspec": {
      "name": "python3",
      "display_name": "Python 3"
    }
  },
  "cells": [
    {
      "cell_type": "markdown",
      "metadata": {
        "id": "4gZNDzvCxk9W"
      },
      "source": [
        "# Machine Learning Steps\n",
        "1. Import the Data\n",
        "2. Clean the Data\n",
        "3. Split the Data into Training / Test Sets\n",
        "4. Create a Model\n",
        "5. Train the Model\n",
        "6. Make Predictions\n",
        "7. Evaluate and Improve\n",
        "\n",
        "## Tools : \n",
        "* Jupyter\n",
        "* Sklearn\n",
        "\n",
        "SRC : https://www.youtube.com/watch?v=7eh4d6sabA0&t=139s\n",
        "\n",
        "src1 : https://www.kaggle.com/\n",
        "\n",
        "\n",
        "\n"
      ]
    },
    {
      "cell_type": "markdown",
      "metadata": {
        "id": "dWCQbvwwe5b4"
      },
      "source": [
        "## Loading a file"
      ]
    },
    {
      "cell_type": "code",
      "metadata": {
        "id": "4UswHBEOz6gv",
        "colab": {
          "base_uri": "https://localhost:8080/"
        },
        "outputId": "5707d4fa-5cda-4708-c6ea-d78cc60c4c43"
      },
      "source": [
        "import pandas as pd\n",
        "df = pd.read_csv('/content/vgsales.csv')\n",
        "df.shape"
      ],
      "execution_count": null,
      "outputs": [
        {
          "output_type": "execute_result",
          "data": {
            "text/plain": [
              "(16598, 11)"
            ]
          },
          "metadata": {
            "tags": []
          },
          "execution_count": 6
        }
      ]
    },
    {
      "cell_type": "code",
      "metadata": {
        "id": "EqdKEySQ2OaV",
        "colab": {
          "base_uri": "https://localhost:8080/",
          "height": 304
        },
        "outputId": "deed814c-f796-41a0-f5df-c8bf1f6f1fc9"
      },
      "source": [
        "df.describe()"
      ],
      "execution_count": null,
      "outputs": [
        {
          "output_type": "execute_result",
          "data": {
            "text/html": [
              "<div>\n",
              "<style scoped>\n",
              "    .dataframe tbody tr th:only-of-type {\n",
              "        vertical-align: middle;\n",
              "    }\n",
              "\n",
              "    .dataframe tbody tr th {\n",
              "        vertical-align: top;\n",
              "    }\n",
              "\n",
              "    .dataframe thead th {\n",
              "        text-align: right;\n",
              "    }\n",
              "</style>\n",
              "<table border=\"1\" class=\"dataframe\">\n",
              "  <thead>\n",
              "    <tr style=\"text-align: right;\">\n",
              "      <th></th>\n",
              "      <th>Rank</th>\n",
              "      <th>Year</th>\n",
              "      <th>NA_Sales</th>\n",
              "      <th>EU_Sales</th>\n",
              "      <th>JP_Sales</th>\n",
              "      <th>Other_Sales</th>\n",
              "      <th>Global_Sales</th>\n",
              "    </tr>\n",
              "  </thead>\n",
              "  <tbody>\n",
              "    <tr>\n",
              "      <th>count</th>\n",
              "      <td>16598.000000</td>\n",
              "      <td>16327.000000</td>\n",
              "      <td>16598.000000</td>\n",
              "      <td>16598.000000</td>\n",
              "      <td>16598.000000</td>\n",
              "      <td>16598.000000</td>\n",
              "      <td>16598.000000</td>\n",
              "    </tr>\n",
              "    <tr>\n",
              "      <th>mean</th>\n",
              "      <td>8300.605254</td>\n",
              "      <td>2006.406443</td>\n",
              "      <td>0.264667</td>\n",
              "      <td>0.146652</td>\n",
              "      <td>0.077782</td>\n",
              "      <td>0.048063</td>\n",
              "      <td>0.537441</td>\n",
              "    </tr>\n",
              "    <tr>\n",
              "      <th>std</th>\n",
              "      <td>4791.853933</td>\n",
              "      <td>5.828981</td>\n",
              "      <td>0.816683</td>\n",
              "      <td>0.505351</td>\n",
              "      <td>0.309291</td>\n",
              "      <td>0.188588</td>\n",
              "      <td>1.555028</td>\n",
              "    </tr>\n",
              "    <tr>\n",
              "      <th>min</th>\n",
              "      <td>1.000000</td>\n",
              "      <td>1980.000000</td>\n",
              "      <td>0.000000</td>\n",
              "      <td>0.000000</td>\n",
              "      <td>0.000000</td>\n",
              "      <td>0.000000</td>\n",
              "      <td>0.010000</td>\n",
              "    </tr>\n",
              "    <tr>\n",
              "      <th>25%</th>\n",
              "      <td>4151.250000</td>\n",
              "      <td>2003.000000</td>\n",
              "      <td>0.000000</td>\n",
              "      <td>0.000000</td>\n",
              "      <td>0.000000</td>\n",
              "      <td>0.000000</td>\n",
              "      <td>0.060000</td>\n",
              "    </tr>\n",
              "    <tr>\n",
              "      <th>50%</th>\n",
              "      <td>8300.500000</td>\n",
              "      <td>2007.000000</td>\n",
              "      <td>0.080000</td>\n",
              "      <td>0.020000</td>\n",
              "      <td>0.000000</td>\n",
              "      <td>0.010000</td>\n",
              "      <td>0.170000</td>\n",
              "    </tr>\n",
              "    <tr>\n",
              "      <th>75%</th>\n",
              "      <td>12449.750000</td>\n",
              "      <td>2010.000000</td>\n",
              "      <td>0.240000</td>\n",
              "      <td>0.110000</td>\n",
              "      <td>0.040000</td>\n",
              "      <td>0.040000</td>\n",
              "      <td>0.470000</td>\n",
              "    </tr>\n",
              "    <tr>\n",
              "      <th>max</th>\n",
              "      <td>16600.000000</td>\n",
              "      <td>2020.000000</td>\n",
              "      <td>41.490000</td>\n",
              "      <td>29.020000</td>\n",
              "      <td>10.220000</td>\n",
              "      <td>10.570000</td>\n",
              "      <td>82.740000</td>\n",
              "    </tr>\n",
              "  </tbody>\n",
              "</table>\n",
              "</div>"
            ],
            "text/plain": [
              "               Rank          Year  ...   Other_Sales  Global_Sales\n",
              "count  16598.000000  16327.000000  ...  16598.000000  16598.000000\n",
              "mean    8300.605254   2006.406443  ...      0.048063      0.537441\n",
              "std     4791.853933      5.828981  ...      0.188588      1.555028\n",
              "min        1.000000   1980.000000  ...      0.000000      0.010000\n",
              "25%     4151.250000   2003.000000  ...      0.000000      0.060000\n",
              "50%     8300.500000   2007.000000  ...      0.010000      0.170000\n",
              "75%    12449.750000   2010.000000  ...      0.040000      0.470000\n",
              "max    16600.000000   2020.000000  ...     10.570000     82.740000\n",
              "\n",
              "[8 rows x 7 columns]"
            ]
          },
          "metadata": {
            "tags": []
          },
          "execution_count": 9
        }
      ]
    },
    {
      "cell_type": "code",
      "metadata": {
        "id": "WxQx6_8mIIt4",
        "colab": {
          "base_uri": "https://localhost:8080/"
        },
        "outputId": "e0c3c4e6-e61c-46df-c46c-415e8506edde"
      },
      "source": [
        "df.values"
      ],
      "execution_count": null,
      "outputs": [
        {
          "output_type": "execute_result",
          "data": {
            "text/plain": [
              "array([[1, 'Wii Sports', 'Wii', ..., 3.77, 8.46, 82.74],\n",
              "       [2, 'Super Mario Bros.', 'NES', ..., 6.81, 0.77, 40.24],\n",
              "       [3, 'Mario Kart Wii', 'Wii', ..., 3.79, 3.31, 35.82],\n",
              "       ...,\n",
              "       [16598, 'SCORE International Baja 1000: The Official Game', 'PS2',\n",
              "        ..., 0.0, 0.0, 0.01],\n",
              "       [16599, 'Know How 2', 'DS', ..., 0.0, 0.0, 0.01],\n",
              "       [16600, 'Spirits & Spells', 'GBA', ..., 0.0, 0.0, 0.01]],\n",
              "      dtype=object)"
            ]
          },
          "metadata": {
            "tags": []
          },
          "execution_count": 10
        }
      ]
    },
    {
      "cell_type": "markdown",
      "metadata": {
        "id": "CsuDyFBCenXW"
      },
      "source": [
        "## Create and Train a model"
      ]
    },
    {
      "cell_type": "code",
      "metadata": {
        "id": "hFOF6WS2PxXR",
        "colab": {
          "base_uri": "https://localhost:8080/"
        },
        "outputId": "aa4d85d2-94f9-43f2-a4c5-3fe3a3ef3476"
      },
      "source": [
        "import pandas as pd\n",
        "from sklearn.tree import DecisionTreeClassifier #most popular ML library\n",
        "\n",
        "music_data = pd.read_csv('music.csv')\n",
        "#PREPARING THE DATA\n",
        "X = music_data.drop(columns=['genre'])\n",
        "y = music_data['genre']\n",
        "\n",
        "#LEARNING \n",
        "model = DecisionTreeClassifier()\n",
        "model.fit(X, y) \n",
        "#PREDICT\n",
        "predictions = model.predict([[21, 1], [22, 0]]) #fit : find pattern in data\n",
        "predictions\n"
      ],
      "execution_count": null,
      "outputs": [
        {
          "output_type": "execute_result",
          "data": {
            "text/plain": [
              "array(['HipHop', 'Dance'], dtype=object)"
            ]
          },
          "metadata": {
            "tags": []
          },
          "execution_count": 19
        }
      ]
    },
    {
      "cell_type": "markdown",
      "metadata": {
        "id": "z7Ao1zbhesLa"
      },
      "source": [
        "## Calculate accuracy of the model in order to choose which one is better"
      ]
    },
    {
      "cell_type": "code",
      "metadata": {
        "id": "QWqDFH-6bmMS",
        "colab": {
          "base_uri": "https://localhost:8080/"
        },
        "outputId": "3b1e143a-7a59-4a8d-9c7f-79cf6b847f52"
      },
      "source": [
        "\n",
        "\n",
        "import pandas as pd\n",
        "from sklearn.tree import DecisionTreeClassifier #most popular ML library\n",
        "from sklearn.model_selection import train_test_split\n",
        "from sklearn.metrics import accuracy_score\n",
        "\n",
        "music_data = pd.read_csv('music.csv')\n",
        "#music_data.shape\n",
        "#music_data\n",
        "X = music_data.drop(columns=['genre'])\n",
        "y = music_data['genre']\n",
        "X_train, X_test, y_train, y_test = train_test_split(X, y, test_size=0.2)\n",
        "\n",
        "model = DecisionTreeClassifier()\n",
        "model.fit(X_train, y_train) #fit : find pattern in data\n",
        "predictions = model.predict(X_test)\n",
        "\n",
        "score = accuracy_score(y_test, predictions)\n",
        "\n",
        "score #prediction changes each execution\n",
        "                       "
      ],
      "execution_count": null,
      "outputs": [
        {
          "output_type": "execute_result",
          "data": {
            "text/plain": [
              "0.5"
            ]
          },
          "metadata": {
            "tags": []
          },
          "execution_count": 23
        }
      ]
    },
    {
      "cell_type": "markdown",
      "metadata": {
        "id": "ZReaE327fYPD"
      },
      "source": [
        "## Persisting Models"
      ]
    },
    {
      "cell_type": "code",
      "metadata": {
        "id": "CNzFmYuafiaK",
        "colab": {
          "base_uri": "https://localhost:8080/"
        },
        "outputId": "9a7b8980-104a-4c48-a766-17a525caeace"
      },
      "source": [
        "import pandas as pd\n",
        "from sklearn.tree import DecisionTreeClassifier\n",
        "from sklearn.externals import joblib\n",
        "\n",
        "# music_data = pd.read_csv('music.csv')\n",
        "# X = music_data.drop(columns=['genre'])\n",
        "# y = music_data['genre']\n",
        "\n",
        "#creating a model\n",
        "# model = DecisionTreeClassifier()\n",
        "#train\n",
        "# model.fit(X, y) \n",
        " # to save the model\n",
        "# joblib.dump(model, 'music-recommender.joblib')\n",
        "\n",
        "# to load the model\n",
        "model = joblib.load('/content/music-recommender.joblib') \n",
        "#fit : find pattern in data\n",
        "predictions = model.predict([[21, 1], [22, 0]]) \n",
        " #print output\n",
        "predictions \n"
      ],
      "execution_count": null,
      "outputs": [
        {
          "output_type": "execute_result",
          "data": {
            "text/plain": [
              "array(['HipHop', 'Dance'], dtype=object)"
            ]
          },
          "metadata": {
            "tags": []
          },
          "execution_count": 27
        }
      ]
    },
    {
      "cell_type": "markdown",
      "metadata": {
        "id": "eTNevnpRfQGf"
      },
      "source": [
        "## Visualizing Decision Trees"
      ]
    },
    {
      "cell_type": "code",
      "metadata": {
        "id": "ypEg2-z1iRrg"
      },
      "source": [
        "import pandas as pd\n",
        "from sklearn.tree import DecisionTreeClassifier #most popular ML library\n",
        "from sklearn import tree\n",
        "\n",
        "music_data = pd.read_csv('music.csv')\n",
        "#PREPARING THE DATA\n",
        "X = music_data.drop(columns=['genre'])\n",
        "y = music_data['genre']\n",
        "\n",
        "#create \n",
        "model = DecisionTreeClassifier()\n",
        "#train\n",
        "model.fit(X, y)\n",
        "\n",
        "tree.export_graphviz(model, out_file='music-recommender.dot',\n",
        "                    feature_names=['age', 'gender'],\n",
        "                    class_names=sorted(y.unique()),\n",
        "                     label='all',\n",
        "                     rounded=True,\n",
        "                     filled=True)\n"
      ],
      "execution_count": null,
      "outputs": []
    }
  ]
}